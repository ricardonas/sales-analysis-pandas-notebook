{
 "cells": [
  {
   "cell_type": "code",
   "execution_count": 4,
   "id": "a8218451",
   "metadata": {},
   "outputs": [],
   "source": [
    "import pandas as pd\n",
    "import os\n",
    "from datetime import datetime\n",
    "import matplotlib.pyplot as plt"
   ]
  },
  {
   "cell_type": "markdown",
   "id": "f1657136",
   "metadata": {},
   "source": [
    "### Task #1: Merge 12 months of sales data into a single file"
   ]
  },
  {
   "cell_type": "code",
   "execution_count": 5,
   "id": "91014b41",
   "metadata": {},
   "outputs": [],
   "source": [
    "files = [file for file in os.listdir('./sales_data')]\n",
    "\n",
    "all_months_df = pd.DataFrame()\n",
    "\n",
    "for file in files:\n",
    "    df = pd.read_csv(f'./sales_data/{file}')\n",
    "    all_months_df = pd.concat([all_months_df, df])\n",
    "    \n",
    "all_months_df.to_csv(\"all_data.csv\", index=False)\n"
   ]
  },
  {
   "cell_type": "markdown",
   "id": "c76ff16e",
   "metadata": {},
   "source": [
    "### Read merged dataframe"
   ]
  },
  {
   "cell_type": "code",
   "execution_count": 6,
   "id": "86c2d3b5",
   "metadata": {
    "scrolled": true
   },
   "outputs": [],
   "source": [
    "all_data_df = pd.read_csv(\"all_data.csv\")"
   ]
  },
  {
   "cell_type": "markdown",
   "id": "99c2f913",
   "metadata": {},
   "source": [
    "### Augment data with additional columns"
   ]
  },
  {
   "cell_type": "markdown",
   "id": "234471e7",
   "metadata": {},
   "source": [
    "### Clean up data"
   ]
  },
  {
   "cell_type": "markdown",
   "id": "a87e06a3",
   "metadata": {},
   "source": [
    "### Drop NaN rows"
   ]
  },
  {
   "cell_type": "code",
   "execution_count": 7,
   "id": "0ec98661",
   "metadata": {},
   "outputs": [],
   "source": [
    "all_data_df = all_data_df.dropna(how='all')"
   ]
  },
  {
   "cell_type": "markdown",
   "id": "7b909850",
   "metadata": {},
   "source": [
    "### Find 'Or' and delete it"
   ]
  },
  {
   "cell_type": "code",
   "execution_count": 8,
   "id": "a9d063dd",
   "metadata": {},
   "outputs": [],
   "source": [
    "all_data_df = all_data_df[all_data_df['Order Date'].str[0:2] != 'Or']"
   ]
  },
  {
   "cell_type": "markdown",
   "id": "5be0962d",
   "metadata": {},
   "source": [
    "### Convert columns to the correct type"
   ]
  },
  {
   "cell_type": "code",
   "execution_count": 9,
   "id": "34b78029",
   "metadata": {},
   "outputs": [],
   "source": [
    "all_data_df['Quantity Ordered'] = pd.to_numeric(all_data_df['Quantity Ordered'])\n",
    "all_data_df['Price Each'] = pd.to_numeric(all_data_df['Price Each'])"
   ]
  },
  {
   "cell_type": "markdown",
   "id": "eb2aefb5",
   "metadata": {},
   "source": [
    "### Task #2: Add month column"
   ]
  },
  {
   "cell_type": "code",
   "execution_count": 10,
   "id": "dce1af3e",
   "metadata": {},
   "outputs": [],
   "source": [
    "all_data_df['Month'] = all_data_df['Order Date'].str[0:2]\n",
    "all_data_df['Month'] = all_data_df['Month'].astype('int32')"
   ]
  },
  {
   "cell_type": "markdown",
   "id": "ed3d12cc",
   "metadata": {},
   "source": [
    "### Task #3: Add a total column"
   ]
  },
  {
   "cell_type": "code",
   "execution_count": 11,
   "id": "8f349a25",
   "metadata": {},
   "outputs": [],
   "source": [
    "all_data_df['Total'] = all_data_df['Quantity Ordered'] * all_data_df['Price Each']"
   ]
  },
  {
   "cell_type": "markdown",
   "id": "644004bf",
   "metadata": {},
   "source": [
    "### Task #4: Add a city column"
   ]
  },
  {
   "cell_type": "code",
   "execution_count": 12,
   "id": "ea7764d9",
   "metadata": {},
   "outputs": [],
   "source": [
    "def get_city(address):\n",
    "    return address.split(',')[1]\n",
    "\n",
    "def get_state(address):\n",
    "    return address.split(',')[2].split(' ')[1]\n",
    "\n",
    "all_data_df['City'] = all_data_df['Purchase Address'].apply(lambda x: f\"{get_city(x)} ({get_state(x)})\")"
   ]
  },
  {
   "cell_type": "markdown",
   "id": "83d7d59d",
   "metadata": {},
   "source": [
    "### Question #1: What was the best month for sales? How much was earned that month?"
   ]
  },
  {
   "cell_type": "code",
   "execution_count": 13,
   "id": "e252f74a",
   "metadata": {},
   "outputs": [],
   "source": [
    "results = all_data_df.groupby('Month').sum()"
   ]
  },
  {
   "cell_type": "code",
   "execution_count": 14,
   "id": "c92d1cc9",
   "metadata": {
    "scrolled": true
   },
   "outputs": [
    {
     "data": {
      "image/png": "[encoded data removed]",
      "text/plain": [
       "<Figure size 432x288 with 1 Axes>"
      ]
     },
     "metadata": {
      "needs_background": "light"
     },
     "output_type": "display_data"
    }
   ],
   "source": [
    "months = range(1, 13)\n",
    "\n",
    "plt.bar(months, results['Total'])\n",
    "plt.xticks(months)\n",
    "plt.ylabel('Total in USD ($)')\n",
    "plt.xlabel('Month number')\n",
    "plt.show()\n"
   ]
  },
  {
   "cell_type": "markdown",
   "id": "90a847b4",
   "metadata": {},
   "source": [
    "### Question #2: What city had the highest number of sales?"
   ]
  },
  {
   "cell_type": "code",
   "execution_count": 15,
   "id": "5b165a14",
   "metadata": {},
   "outputs": [],
   "source": [
    "results = all_data_df.groupby('City').sum()"
   ]
  },
  {
   "cell_type": "code",
   "execution_count": 29,
   "id": "c231c370",
   "metadata": {},
   "outputs": [
    {
     "data": {
      "image/png": "[encoded data removed]",
      "text/plain": [
       "<Figure size 432x288 with 1 Axes>"
      ]
     },
     "metadata": {
      "needs_background": "light"
     },
     "output_type": "display_data"
    }
   ],
   "source": [
    "cities = [city for city, df in all_data_df.groupby('City')]\n",
    "\n",
    "plt.bar(cities, results['Total'])\n",
    "plt.xticks(cities, rotation='vertical', size=8)\n",
    "plt.ylabel('Total in USD ($)')\n",
    "plt.xlabel('City name')\n",
    "plt.show()\n"
   ]
  },
  {
   "cell_type": "markdown",
   "id": "613dedb3",
   "metadata": {},
   "source": [
    "### Question #3: What time should we display advertisements to maximize likelihood of customer's buying product?"
   ]
  },
  {
   "cell_type": "code",
   "execution_count": 22,
   "id": "a06a6306",
   "metadata": {},
   "outputs": [],
   "source": [
    "all_data_df['Order Date'] = pd.to_datetime(all_data_df['Order Date'])"
   ]
  },
  {
   "cell_type": "code",
   "execution_count": 27,
   "id": "079fb1ef",
   "metadata": {},
   "outputs": [],
   "source": [
    "all_data_df['Hour'] = all_data_df['Order Date'].dt.hour"
   ]
  },
  {
   "cell_type": "code",
   "execution_count": 35,
   "id": "79a0d46b",
   "metadata": {},
   "outputs": [
    {
     "data": {
      "image/png": "[encoded data removed]",
      "text/plain": [
       "<Figure size 432x288 with 1 Axes>"
      ]
     },
     "metadata": {
      "needs_background": "light"
     },
     "output_type": "display_data"
    }
   ],
   "source": [
    "keys = [pair for pair, df in all_data_df.groupby(['Hour'])]\n",
    "\n",
    "plt.plot(keys, all_data_df.groupby(['Hour']).count()['Count'])\n",
    "plt.xticks(keys)\n",
    "plt.grid()\n",
    "plt.show()\n"
   ]
  },
  {
   "cell_type": "code",
   "execution_count": null,
   "id": "5bd3bea0",
   "metadata": {},
   "outputs": [],
   "source": []
  },
  {
   "cell_type": "code",
   "execution_count": null,
   "id": "a7d9a0c8",
   "metadata": {},
   "outputs": [],
   "source": []
  },
  {
   "cell_type": "code",
   "execution_count": null,
   "id": "0c8ea717",
   "metadata": {},
   "outputs": [],
   "source": []
  }
 ],
 "metadata": {
  "kernelspec": {
   "display_name": "Python 3 (ipykernel)",
   "language": "python",
   "name": "python3"
  },
  "language_info": {
   "codemirror_mode": {
    "name": "ipython",
    "version": 3
   },
   "file_extension": ".py",
   "mimetype": "text/x-python",
   "name": "python",
   "nbconvert_exporter": "python",
   "pygments_lexer": "ipython3",
   "version": "3.9.12"
  }
 },
 "nbformat": 4,
 "nbformat_minor": 5
}
